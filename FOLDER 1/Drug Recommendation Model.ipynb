{
 "cells": [
  {
   "cell_type": "code",
   "execution_count": 80,
   "metadata": {
    "id": "2ihhGDHH6qfp"
   },
   "outputs": [],
   "source": [
    "import numpy as np \n",
    "import pandas as pd\n",
    "from sklearn.tree import DecisionTreeClassifier"
   ]
  },
  {
   "cell_type": "code",
   "execution_count": 81,
   "metadata": {
    "id": "23UztCUF6qfv"
   },
   "outputs": [],
   "source": [
    "my_data=pd.read_csv(\"Datasets/Drug prescription Dataset.csv\", delimiter=\",\")"
   ]
  },
  {
   "cell_type": "code",
   "execution_count": 82,
   "metadata": {
    "colab": {
     "base_uri": "https://localhost:8080/",
     "height": 206
    },
    "id": "1Gzwf9MQ6qfy",
    "outputId": "b352273d-2cd3-49cb-b4fb-48028471d1c2"
   },
   "outputs": [
    {
     "data": {
      "text/html": [
       "<div>\n",
       "<style scoped>\n",
       "    .dataframe tbody tr th:only-of-type {\n",
       "        vertical-align: middle;\n",
       "    }\n",
       "\n",
       "    .dataframe tbody tr th {\n",
       "        vertical-align: top;\n",
       "    }\n",
       "\n",
       "    .dataframe thead th {\n",
       "        text-align: right;\n",
       "    }\n",
       "</style>\n",
       "<table border=\"1\" class=\"dataframe\">\n",
       "  <thead>\n",
       "    <tr style=\"text-align: right;\">\n",
       "      <th></th>\n",
       "      <th>disease</th>\n",
       "      <th>age</th>\n",
       "      <th>gender</th>\n",
       "      <th>severity</th>\n",
       "      <th>drug</th>\n",
       "    </tr>\n",
       "  </thead>\n",
       "  <tbody>\n",
       "    <tr>\n",
       "      <th>0</th>\n",
       "      <td>diarrhea</td>\n",
       "      <td>4</td>\n",
       "      <td>male</td>\n",
       "      <td>LOW</td>\n",
       "      <td>promegranate drink</td>\n",
       "    </tr>\n",
       "    <tr>\n",
       "      <th>1</th>\n",
       "      <td>diarrhea</td>\n",
       "      <td>4</td>\n",
       "      <td>male</td>\n",
       "      <td>NORMAL</td>\n",
       "      <td>lime juice</td>\n",
       "    </tr>\n",
       "    <tr>\n",
       "      <th>2</th>\n",
       "      <td>diarrhea</td>\n",
       "      <td>5</td>\n",
       "      <td>male</td>\n",
       "      <td>LOW</td>\n",
       "      <td>promegranate drink</td>\n",
       "    </tr>\n",
       "    <tr>\n",
       "      <th>3</th>\n",
       "      <td>diarrhea</td>\n",
       "      <td>5</td>\n",
       "      <td>male</td>\n",
       "      <td>NORMAL</td>\n",
       "      <td>lime juice</td>\n",
       "    </tr>\n",
       "    <tr>\n",
       "      <th>4</th>\n",
       "      <td>diarrhea</td>\n",
       "      <td>6</td>\n",
       "      <td>male</td>\n",
       "      <td>LOW</td>\n",
       "      <td>promegranate drink</td>\n",
       "    </tr>\n",
       "  </tbody>\n",
       "</table>\n",
       "</div>"
      ],
      "text/plain": [
       "    disease  age gender severity                drug\n",
       "0  diarrhea    4   male      LOW  promegranate drink\n",
       "1  diarrhea    4   male   NORMAL          lime juice\n",
       "2  diarrhea    5   male      LOW  promegranate drink\n",
       "3  diarrhea    5   male   NORMAL          lime juice\n",
       "4  diarrhea    6   male      LOW  promegranate drink"
      ]
     },
     "execution_count": 82,
     "metadata": {},
     "output_type": "execute_result"
    }
   ],
   "source": [
    "my_data[0:5]"
   ]
  },
  {
   "cell_type": "code",
   "execution_count": 83,
   "metadata": {
    "colab": {
     "base_uri": "https://localhost:8080/"
    },
    "id": "AT3dloQ66qf1",
    "outputId": "493ea68b-e12a-4a1b-9109-5123b1e06f6e"
   },
   "outputs": [
    {
     "data": {
      "text/plain": [
       "(1288, 5)"
      ]
     },
     "execution_count": 83,
     "metadata": {},
     "output_type": "execute_result"
    }
   ],
   "source": [
    "my_data.shape"
   ]
  },
  {
   "cell_type": "markdown",
   "metadata": {
    "id": "IYIRjxqj6qf2"
   },
   "source": [
    "<div href=\"pre-processing\">\n",
    "    <h2>Pre-processing</h2>\n",
    "</div>\n"
   ]
  },
  {
   "cell_type": "code",
   "execution_count": 84,
   "metadata": {
    "colab": {
     "base_uri": "https://localhost:8080/",
     "height": 1000
    },
    "id": "k-mBkgdqA3S5",
    "outputId": "e5f53dbe-c0ce-4678-8f88-1a3a1afba6d4"
   },
   "outputs": [
    {
     "name": "stdout",
     "output_type": "stream",
     "text": [
      "Duplicate Rows :\n"
     ]
    },
    {
     "data": {
      "text/plain": [
       "0       False\n",
       "1       False\n",
       "2       False\n",
       "3       False\n",
       "4       False\n",
       "        ...  \n",
       "1283    False\n",
       "1284    False\n",
       "1285    False\n",
       "1286    False\n",
       "1287    False\n",
       "Length: 1288, dtype: bool"
      ]
     },
     "execution_count": 84,
     "metadata": {},
     "output_type": "execute_result"
    }
   ],
   "source": [
    "duplicate = my_data.duplicated()\n",
    " \n",
    "print(\"Duplicate Rows :\")\n",
    " \n",
    "# Displaying the resultant Dataframe\n",
    "duplicate"
   ]
  },
  {
   "cell_type": "code",
   "execution_count": 85,
   "metadata": {},
   "outputs": [
    {
     "name": "stdout",
     "output_type": "stream",
     "text": [
      "Duplicate Values : 0\n"
     ]
    }
   ],
   "source": [
    "# Checking the total count of Duplicate Values\n",
    "duplicate_rows = my_data[my_data.duplicated()]\n",
    "print(\"Duplicate Values :\", len(duplicate_rows))"
   ]
  },
  {
   "cell_type": "code",
   "execution_count": 86,
   "metadata": {
    "colab": {
     "base_uri": "https://localhost:8080/",
     "height": 423
    },
    "id": "k3S24QoxA8zC",
    "outputId": "ec09301e-8ee3-4d7e-a5d8-d24d296ab6a1",
    "scrolled": true
   },
   "outputs": [
    {
     "data": {
      "text/html": [
       "<div>\n",
       "<style scoped>\n",
       "    .dataframe tbody tr th:only-of-type {\n",
       "        vertical-align: middle;\n",
       "    }\n",
       "\n",
       "    .dataframe tbody tr th {\n",
       "        vertical-align: top;\n",
       "    }\n",
       "\n",
       "    .dataframe thead th {\n",
       "        text-align: right;\n",
       "    }\n",
       "</style>\n",
       "<table border=\"1\" class=\"dataframe\">\n",
       "  <thead>\n",
       "    <tr style=\"text-align: right;\">\n",
       "      <th></th>\n",
       "      <th>disease</th>\n",
       "      <th>age</th>\n",
       "      <th>gender</th>\n",
       "      <th>severity</th>\n",
       "      <th>drug</th>\n",
       "    </tr>\n",
       "  </thead>\n",
       "  <tbody>\n",
       "    <tr>\n",
       "      <th>0</th>\n",
       "      <td>diarrhea</td>\n",
       "      <td>4</td>\n",
       "      <td>male</td>\n",
       "      <td>LOW</td>\n",
       "      <td>promegranate drink</td>\n",
       "    </tr>\n",
       "    <tr>\n",
       "      <th>1</th>\n",
       "      <td>diarrhea</td>\n",
       "      <td>4</td>\n",
       "      <td>male</td>\n",
       "      <td>NORMAL</td>\n",
       "      <td>lime juice</td>\n",
       "    </tr>\n",
       "    <tr>\n",
       "      <th>2</th>\n",
       "      <td>diarrhea</td>\n",
       "      <td>5</td>\n",
       "      <td>male</td>\n",
       "      <td>LOW</td>\n",
       "      <td>promegranate drink</td>\n",
       "    </tr>\n",
       "    <tr>\n",
       "      <th>3</th>\n",
       "      <td>diarrhea</td>\n",
       "      <td>5</td>\n",
       "      <td>male</td>\n",
       "      <td>NORMAL</td>\n",
       "      <td>lime juice</td>\n",
       "    </tr>\n",
       "    <tr>\n",
       "      <th>4</th>\n",
       "      <td>diarrhea</td>\n",
       "      <td>6</td>\n",
       "      <td>male</td>\n",
       "      <td>LOW</td>\n",
       "      <td>promegranate drink</td>\n",
       "    </tr>\n",
       "    <tr>\n",
       "      <th>...</th>\n",
       "      <td>...</td>\n",
       "      <td>...</td>\n",
       "      <td>...</td>\n",
       "      <td>...</td>\n",
       "      <td>...</td>\n",
       "    </tr>\n",
       "    <tr>\n",
       "      <th>1283</th>\n",
       "      <td>diarrhea</td>\n",
       "      <td>60</td>\n",
       "      <td>male</td>\n",
       "      <td>NORMAL</td>\n",
       "      <td>kutajarishta</td>\n",
       "    </tr>\n",
       "    <tr>\n",
       "      <th>1284</th>\n",
       "      <td>diarrhea</td>\n",
       "      <td>60</td>\n",
       "      <td>male</td>\n",
       "      <td>LOW</td>\n",
       "      <td>ajamodarka</td>\n",
       "    </tr>\n",
       "    <tr>\n",
       "      <th>1285</th>\n",
       "      <td>diarrhea</td>\n",
       "      <td>60</td>\n",
       "      <td>female</td>\n",
       "      <td>HIGH</td>\n",
       "      <td>sitopaladi churna</td>\n",
       "    </tr>\n",
       "    <tr>\n",
       "      <th>1286</th>\n",
       "      <td>diarrhea</td>\n",
       "      <td>60</td>\n",
       "      <td>female</td>\n",
       "      <td>NORMAL</td>\n",
       "      <td>kutajarishta</td>\n",
       "    </tr>\n",
       "    <tr>\n",
       "      <th>1287</th>\n",
       "      <td>diarrhea</td>\n",
       "      <td>60</td>\n",
       "      <td>female</td>\n",
       "      <td>LOW</td>\n",
       "      <td>ajamodarka</td>\n",
       "    </tr>\n",
       "  </tbody>\n",
       "</table>\n",
       "<p>1288 rows × 5 columns</p>\n",
       "</div>"
      ],
      "text/plain": [
       "       disease  age  gender severity                drug\n",
       "0     diarrhea    4    male      LOW  promegranate drink\n",
       "1     diarrhea    4    male   NORMAL          lime juice\n",
       "2     diarrhea    5    male      LOW  promegranate drink\n",
       "3     diarrhea    5    male   NORMAL          lime juice\n",
       "4     diarrhea    6    male      LOW  promegranate drink\n",
       "...        ...  ...     ...      ...                 ...\n",
       "1283  diarrhea   60    male   NORMAL        kutajarishta\n",
       "1284  diarrhea   60    male      LOW          ajamodarka\n",
       "1285  diarrhea   60  female     HIGH   sitopaladi churna\n",
       "1286  diarrhea   60  female   NORMAL        kutajarishta\n",
       "1287  diarrhea   60  female      LOW          ajamodarka\n",
       "\n",
       "[1288 rows x 5 columns]"
      ]
     },
     "execution_count": 86,
     "metadata": {},
     "output_type": "execute_result"
    }
   ],
   "source": [
    "duplicate_vals = my_data.drop_duplicates()\n",
    "duplicate_vals"
   ]
  },
  {
   "cell_type": "code",
   "execution_count": 87,
   "metadata": {
    "colab": {
     "base_uri": "https://localhost:8080/"
    },
    "id": "srR9TGrxBRJg",
    "outputId": "d7d97e67-971a-4e96-c7d4-ca49669e5f2d"
   },
   "outputs": [
    {
     "data": {
      "text/plain": [
       "(1288, 5)"
      ]
     },
     "execution_count": 87,
     "metadata": {},
     "output_type": "execute_result"
    }
   ],
   "source": [
    "my_data.shape"
   ]
  },
  {
   "cell_type": "code",
   "execution_count": 88,
   "metadata": {
    "colab": {
     "base_uri": "https://localhost:8080/"
    },
    "id": "_vK6URhk6qf3",
    "outputId": "96784070-e9a7-4ba8-cadf-0b1e98991814"
   },
   "outputs": [
    {
     "data": {
      "text/plain": [
       "array([['diarrhea', 4, 'male', 'LOW'],\n",
       "       ['diarrhea', 4, 'male', 'NORMAL'],\n",
       "       ['diarrhea', 5, 'male', 'LOW'],\n",
       "       ['diarrhea', 5, 'male', 'NORMAL'],\n",
       "       ['diarrhea', 6, 'male', 'LOW']], dtype=object)"
      ]
     },
     "execution_count": 88,
     "metadata": {},
     "output_type": "execute_result"
    }
   ],
   "source": [
    "X = my_data[[\"disease\",\"age\",\"gender\",\"severity\"]].values\n",
    "X[0:5]"
   ]
  },
  {
   "cell_type": "code",
   "execution_count": 89,
   "metadata": {
    "colab": {
     "base_uri": "https://localhost:8080/"
    },
    "id": "YCMk4wgZgYgI",
    "outputId": "c4d011db-4c12-408b-d736-1336ed3e28c2"
   },
   "outputs": [
    {
     "data": {
      "text/plain": [
       "disease     0\n",
       "age         0\n",
       "gender      0\n",
       "severity    0\n",
       "drug        0\n",
       "dtype: int64"
      ]
     },
     "execution_count": 89,
     "metadata": {},
     "output_type": "execute_result"
    }
   ],
   "source": [
    "my_data.isnull().sum()"
   ]
  },
  {
   "cell_type": "code",
   "execution_count": 90,
   "metadata": {
    "colab": {
     "base_uri": "https://localhost:8080/"
    },
    "id": "g7d4XPryCmxv",
    "outputId": "51e59f5b-09f6-47dc-b3a6-e6dc91f44f6e"
   },
   "outputs": [
    {
     "data": {
      "text/plain": [
       "False"
      ]
     },
     "execution_count": 90,
     "metadata": {},
     "output_type": "execute_result"
    }
   ],
   "source": [
    "my_data.isnull().values.any()"
   ]
  },
  {
   "cell_type": "code",
   "execution_count": 91,
   "metadata": {
    "colab": {
     "base_uri": "https://localhost:8080/"
    },
    "id": "VFaz5Iga6qf6",
    "outputId": "b7ae75e6-5d15-4153-a622-9d6ea90472ab"
   },
   "outputs": [
    {
     "data": {
      "text/plain": [
       "0    promegranate drink\n",
       "1            lime juice\n",
       "2    promegranate drink\n",
       "3            lime juice\n",
       "4    promegranate drink\n",
       "5            lime juice\n",
       "6    promegranate drink\n",
       "7            lime juice\n",
       "8    promegranate drink\n",
       "9            lime juice\n",
       "Name: drug, dtype: object"
      ]
     },
     "execution_count": 91,
     "metadata": {},
     "output_type": "execute_result"
    }
   ],
   "source": [
    "y = my_data[\"drug\"]\n",
    "y[0:10]"
   ]
  },
  {
   "cell_type": "code",
   "execution_count": 92,
   "metadata": {
    "id": "o_gaZvGc6qf7"
   },
   "outputs": [],
   "source": [
    "from sklearn.model_selection import train_test_split"
   ]
  },
  {
   "cell_type": "code",
   "execution_count": 93,
   "metadata": {},
   "outputs": [],
   "source": [
    "import numpy as np\n",
    "# set random seed for reproducibility\n",
    "np.random.seed(42)\n",
    "\n",
    "# load your data\n",
    "X = my_data[[\"disease\",\"age\",\"gender\",\"severity\"]].values # your feature data\n",
    "y = my_data[\"drug\"].values # your target data"
   ]
  },
  {
   "cell_type": "code",
   "execution_count": 94,
   "metadata": {},
   "outputs": [
    {
     "data": {
      "text/plain": [
       "array([[1, 4, 1, 1],\n",
       "       [1, 4, 1, 2],\n",
       "       [1, 5, 1, 1],\n",
       "       [1, 5, 1, 2],\n",
       "       [1, 6, 1, 1]], dtype=object)"
      ]
     },
     "execution_count": 94,
     "metadata": {},
     "output_type": "execute_result"
    }
   ],
   "source": [
    "from sklearn import preprocessing\n",
    "le_disease = preprocessing.LabelEncoder()\n",
    "le_disease.fit([  'diarrhea','gastritis','arthritis','migraine'])\n",
    "X[:,0] = le_disease.transform(X[:,0])\n",
    "\n",
    "le_gender = preprocessing.LabelEncoder()\n",
    "le_gender.fit(['female','male'])\n",
    "X[:,2] = le_gender.transform(X[:,2]) \n",
    "\n",
    "  # le_age = preprocessing.LabelEncoder()\n",
    "  # le_age.fit([   '4',  '5',  '6',  '7',  '8',  '9', '10', '11', '12', '13', '14', '15', '16', '17' ,'18', '19', '20', '21', '22', '23', '24', '25', '26', '27',\n",
    "  # '28', '29', '30', '31'])\n",
    "  # X[:,1] = le_age.transform(X[:,1])\n",
    "\n",
    "le_severity = preprocessing.LabelEncoder()\n",
    "le_severity.fit([ 'LOW', 'NORMAL', 'HIGH'])\n",
    "X[:,3] = le_severity.transform(X[:,3])\n",
    "\n",
    "\n",
    "\n",
    "\n",
    "X[0:5]"
   ]
  },
  {
   "cell_type": "code",
   "execution_count": 95,
   "metadata": {},
   "outputs": [],
   "source": [
    "import warnings\n",
    "\n",
    "# Ignoring User Warnings\n",
    "warnings.simplefilter(action='ignore', category=UserWarning)"
   ]
  },
  {
   "cell_type": "code",
   "execution_count": 96,
   "metadata": {},
   "outputs": [],
   "source": [
    "max_depth_values = [1, 2, 3, 4, 5, 6, 7, 8, 9, 10]"
   ]
  },
  {
   "cell_type": "code",
   "execution_count": 97,
   "metadata": {},
   "outputs": [
    {
     "name": "stdout",
     "output_type": "stream",
     "text": [
      "max_depth =  1 : mean accuracy =  12.577519379844961\n",
      "max_depth =  2 : mean accuracy =  21.89437984496124\n",
      "max_depth =  3 : mean accuracy =  33.77059108527132\n",
      "max_depth =  4 : mean accuracy =  55.5874515503876\n",
      "max_depth =  5 : mean accuracy =  70.96051356589147\n"
     ]
    },
    {
     "name": "stdout",
     "output_type": "stream",
     "text": [
      "max_depth =  6 : mean accuracy =  87.42853682170542\n",
      "max_depth =  7 : mean accuracy =  88.59132751937985\n",
      "max_depth =  8 : mean accuracy =  90.37548449612402\n",
      "max_depth =  9 : mean accuracy =  92.0845445736434\n",
      "max_depth =  10 : mean accuracy =  92.0845445736434\n"
     ]
    }
   ],
   "source": [
    "from sklearn.model_selection import cross_val_score\n",
    "\n",
    "for max_depth in max_depth_values:\n",
    "    model = DecisionTreeClassifier(max_depth=max_depth, random_state=42)\n",
    "    scores = cross_val_score(model, X, y, cv=10)\n",
    "    mean_score = scores.mean()\n",
    "    print(\"max_depth = \", max_depth, \":\", \"mean accuracy = \", mean_score*100 )"
   ]
  },
  {
   "cell_type": "code",
   "execution_count": 98,
   "metadata": {
    "id": "HTQbrMp36qf8"
   },
   "outputs": [],
   "source": [
    "X_trainset, X_testset, y_trainset, y_testset = train_test_split(X, y, test_size=0.3, random_state=1)"
   ]
  },
  {
   "cell_type": "code",
   "execution_count": 99,
   "metadata": {},
   "outputs": [],
   "source": [
    "# Save the train data as a CSV file\n",
    "train_data = pd.DataFrame(X_trainset)\n",
    "train_data['target'] = y_trainset\n",
    "train_data.to_csv('Datasets/train_data.csv', index=False)"
   ]
  },
  {
   "cell_type": "code",
   "execution_count": 100,
   "metadata": {},
   "outputs": [],
   "source": [
    "# Save the test data as a CSV file\n",
    "test_data = pd.DataFrame(X_testset)\n",
    "test_data['target'] = y_testset\n",
    "test_data.to_csv('Datasets/test_data.csv', index=False)"
   ]
  },
  {
   "cell_type": "code",
   "execution_count": 101,
   "metadata": {
    "colab": {
     "base_uri": "https://localhost:8080/"
    },
    "id": "xBhLJyEe6qf9",
    "outputId": "a4e60773-6130-48ab-d87b-894c492576cc"
   },
   "outputs": [
    {
     "name": "stdout",
     "output_type": "stream",
     "text": [
      "(901, 4)\n",
      "(901,)\n"
     ]
    }
   ],
   "source": [
    "print(X_trainset.shape)\n",
    "print(y_trainset.shape)"
   ]
  },
  {
   "cell_type": "code",
   "execution_count": 102,
   "metadata": {
    "colab": {
     "base_uri": "https://localhost:8080/"
    },
    "id": "uRGs_3N86qf-",
    "outputId": "ff621aa5-dbff-428e-b1f8-34753811a1a6"
   },
   "outputs": [
    {
     "name": "stdout",
     "output_type": "stream",
     "text": [
      "(387, 4)\n",
      "(387,)\n"
     ]
    }
   ],
   "source": [
    "print(X_testset.shape)\n",
    "print(y_testset.shape)\n"
   ]
  },
  {
   "cell_type": "code",
   "execution_count": 103,
   "metadata": {},
   "outputs": [
    {
     "data": {
      "text/plain": [
       "False"
      ]
     },
     "execution_count": 103,
     "metadata": {},
     "output_type": "execute_result"
    }
   ],
   "source": [
    "test_data.isnull().values.any()"
   ]
  },
  {
   "cell_type": "code",
   "execution_count": 104,
   "metadata": {},
   "outputs": [
    {
     "data": {
      "text/plain": [
       "False"
      ]
     },
     "execution_count": 104,
     "metadata": {},
     "output_type": "execute_result"
    }
   ],
   "source": [
    "train_data.isnull().values.any()"
   ]
  },
  {
   "cell_type": "code",
   "execution_count": 105,
   "metadata": {
    "colab": {
     "base_uri": "https://localhost:8080/",
     "height": 74
    },
    "id": "dON5860E6qf_",
    "outputId": "5c671e91-1d47-4c71-dcf2-9f7830db9ae6"
   },
   "outputs": [
    {
     "data": {
      "text/html": [
       "<style>#sk-container-id-5 {color: black;background-color: white;}#sk-container-id-5 pre{padding: 0;}#sk-container-id-5 div.sk-toggleable {background-color: white;}#sk-container-id-5 label.sk-toggleable__label {cursor: pointer;display: block;width: 100%;margin-bottom: 0;padding: 0.3em;box-sizing: border-box;text-align: center;}#sk-container-id-5 label.sk-toggleable__label-arrow:before {content: \"▸\";float: left;margin-right: 0.25em;color: #696969;}#sk-container-id-5 label.sk-toggleable__label-arrow:hover:before {color: black;}#sk-container-id-5 div.sk-estimator:hover label.sk-toggleable__label-arrow:before {color: black;}#sk-container-id-5 div.sk-toggleable__content {max-height: 0;max-width: 0;overflow: hidden;text-align: left;background-color: #f0f8ff;}#sk-container-id-5 div.sk-toggleable__content pre {margin: 0.2em;color: black;border-radius: 0.25em;background-color: #f0f8ff;}#sk-container-id-5 input.sk-toggleable__control:checked~div.sk-toggleable__content {max-height: 200px;max-width: 100%;overflow: auto;}#sk-container-id-5 input.sk-toggleable__control:checked~label.sk-toggleable__label-arrow:before {content: \"▾\";}#sk-container-id-5 div.sk-estimator input.sk-toggleable__control:checked~label.sk-toggleable__label {background-color: #d4ebff;}#sk-container-id-5 div.sk-label input.sk-toggleable__control:checked~label.sk-toggleable__label {background-color: #d4ebff;}#sk-container-id-5 input.sk-hidden--visually {border: 0;clip: rect(1px 1px 1px 1px);clip: rect(1px, 1px, 1px, 1px);height: 1px;margin: -1px;overflow: hidden;padding: 0;position: absolute;width: 1px;}#sk-container-id-5 div.sk-estimator {font-family: monospace;background-color: #f0f8ff;border: 1px dotted black;border-radius: 0.25em;box-sizing: border-box;margin-bottom: 0.5em;}#sk-container-id-5 div.sk-estimator:hover {background-color: #d4ebff;}#sk-container-id-5 div.sk-parallel-item::after {content: \"\";width: 100%;border-bottom: 1px solid gray;flex-grow: 1;}#sk-container-id-5 div.sk-label:hover label.sk-toggleable__label {background-color: #d4ebff;}#sk-container-id-5 div.sk-serial::before {content: \"\";position: absolute;border-left: 1px solid gray;box-sizing: border-box;top: 0;bottom: 0;left: 50%;z-index: 0;}#sk-container-id-5 div.sk-serial {display: flex;flex-direction: column;align-items: center;background-color: white;padding-right: 0.2em;padding-left: 0.2em;position: relative;}#sk-container-id-5 div.sk-item {position: relative;z-index: 1;}#sk-container-id-5 div.sk-parallel {display: flex;align-items: stretch;justify-content: center;background-color: white;position: relative;}#sk-container-id-5 div.sk-item::before, #sk-container-id-5 div.sk-parallel-item::before {content: \"\";position: absolute;border-left: 1px solid gray;box-sizing: border-box;top: 0;bottom: 0;left: 50%;z-index: -1;}#sk-container-id-5 div.sk-parallel-item {display: flex;flex-direction: column;z-index: 1;position: relative;background-color: white;}#sk-container-id-5 div.sk-parallel-item:first-child::after {align-self: flex-end;width: 50%;}#sk-container-id-5 div.sk-parallel-item:last-child::after {align-self: flex-start;width: 50%;}#sk-container-id-5 div.sk-parallel-item:only-child::after {width: 0;}#sk-container-id-5 div.sk-dashed-wrapped {border: 1px dashed gray;margin: 0 0.4em 0.5em 0.4em;box-sizing: border-box;padding-bottom: 0.4em;background-color: white;}#sk-container-id-5 div.sk-label label {font-family: monospace;font-weight: bold;display: inline-block;line-height: 1.2em;}#sk-container-id-5 div.sk-label-container {text-align: center;}#sk-container-id-5 div.sk-container {/* jupyter's `normalize.less` sets `[hidden] { display: none; }` but bootstrap.min.css set `[hidden] { display: none !important; }` so we also need the `!important` here to be able to override the default hidden behavior on the sphinx rendered scikit-learn.org. See: https://github.com/scikit-learn/scikit-learn/issues/21755 */display: inline-block !important;position: relative;}#sk-container-id-5 div.sk-text-repr-fallback {display: none;}</style><div id=\"sk-container-id-5\" class=\"sk-top-container\"><div class=\"sk-text-repr-fallback\"><pre>DecisionTreeClassifier(criterion=&#x27;entropy&#x27;, max_depth=7)</pre><b>In a Jupyter environment, please rerun this cell to show the HTML representation or trust the notebook. <br />On GitHub, the HTML representation is unable to render, please try loading this page with nbviewer.org.</b></div><div class=\"sk-container\" hidden><div class=\"sk-item\"><div class=\"sk-estimator sk-toggleable\"><input class=\"sk-toggleable__control sk-hidden--visually\" id=\"sk-estimator-id-5\" type=\"checkbox\" checked><label for=\"sk-estimator-id-5\" class=\"sk-toggleable__label sk-toggleable__label-arrow\">DecisionTreeClassifier</label><div class=\"sk-toggleable__content\"><pre>DecisionTreeClassifier(criterion=&#x27;entropy&#x27;, max_depth=7)</pre></div></div></div></div></div>"
      ],
      "text/plain": [
       "DecisionTreeClassifier(criterion='entropy', max_depth=7)"
      ]
     },
     "execution_count": 105,
     "metadata": {},
     "output_type": "execute_result"
    }
   ],
   "source": [
    "drugTree = DecisionTreeClassifier(criterion=\"entropy\", max_depth = 7)\n",
    "drugTree # it shows the default parameters"
   ]
  },
  {
   "cell_type": "code",
   "execution_count": 106,
   "metadata": {
    "colab": {
     "base_uri": "https://localhost:8080/",
     "height": 74
    },
    "id": "lxTtVU0g6qgA",
    "outputId": "8cff4dda-78c8-4e97-fc11-f1c6ce1cce4f"
   },
   "outputs": [
    {
     "data": {
      "text/html": [
       "<style>#sk-container-id-6 {color: black;background-color: white;}#sk-container-id-6 pre{padding: 0;}#sk-container-id-6 div.sk-toggleable {background-color: white;}#sk-container-id-6 label.sk-toggleable__label {cursor: pointer;display: block;width: 100%;margin-bottom: 0;padding: 0.3em;box-sizing: border-box;text-align: center;}#sk-container-id-6 label.sk-toggleable__label-arrow:before {content: \"▸\";float: left;margin-right: 0.25em;color: #696969;}#sk-container-id-6 label.sk-toggleable__label-arrow:hover:before {color: black;}#sk-container-id-6 div.sk-estimator:hover label.sk-toggleable__label-arrow:before {color: black;}#sk-container-id-6 div.sk-toggleable__content {max-height: 0;max-width: 0;overflow: hidden;text-align: left;background-color: #f0f8ff;}#sk-container-id-6 div.sk-toggleable__content pre {margin: 0.2em;color: black;border-radius: 0.25em;background-color: #f0f8ff;}#sk-container-id-6 input.sk-toggleable__control:checked~div.sk-toggleable__content {max-height: 200px;max-width: 100%;overflow: auto;}#sk-container-id-6 input.sk-toggleable__control:checked~label.sk-toggleable__label-arrow:before {content: \"▾\";}#sk-container-id-6 div.sk-estimator input.sk-toggleable__control:checked~label.sk-toggleable__label {background-color: #d4ebff;}#sk-container-id-6 div.sk-label input.sk-toggleable__control:checked~label.sk-toggleable__label {background-color: #d4ebff;}#sk-container-id-6 input.sk-hidden--visually {border: 0;clip: rect(1px 1px 1px 1px);clip: rect(1px, 1px, 1px, 1px);height: 1px;margin: -1px;overflow: hidden;padding: 0;position: absolute;width: 1px;}#sk-container-id-6 div.sk-estimator {font-family: monospace;background-color: #f0f8ff;border: 1px dotted black;border-radius: 0.25em;box-sizing: border-box;margin-bottom: 0.5em;}#sk-container-id-6 div.sk-estimator:hover {background-color: #d4ebff;}#sk-container-id-6 div.sk-parallel-item::after {content: \"\";width: 100%;border-bottom: 1px solid gray;flex-grow: 1;}#sk-container-id-6 div.sk-label:hover label.sk-toggleable__label {background-color: #d4ebff;}#sk-container-id-6 div.sk-serial::before {content: \"\";position: absolute;border-left: 1px solid gray;box-sizing: border-box;top: 0;bottom: 0;left: 50%;z-index: 0;}#sk-container-id-6 div.sk-serial {display: flex;flex-direction: column;align-items: center;background-color: white;padding-right: 0.2em;padding-left: 0.2em;position: relative;}#sk-container-id-6 div.sk-item {position: relative;z-index: 1;}#sk-container-id-6 div.sk-parallel {display: flex;align-items: stretch;justify-content: center;background-color: white;position: relative;}#sk-container-id-6 div.sk-item::before, #sk-container-id-6 div.sk-parallel-item::before {content: \"\";position: absolute;border-left: 1px solid gray;box-sizing: border-box;top: 0;bottom: 0;left: 50%;z-index: -1;}#sk-container-id-6 div.sk-parallel-item {display: flex;flex-direction: column;z-index: 1;position: relative;background-color: white;}#sk-container-id-6 div.sk-parallel-item:first-child::after {align-self: flex-end;width: 50%;}#sk-container-id-6 div.sk-parallel-item:last-child::after {align-self: flex-start;width: 50%;}#sk-container-id-6 div.sk-parallel-item:only-child::after {width: 0;}#sk-container-id-6 div.sk-dashed-wrapped {border: 1px dashed gray;margin: 0 0.4em 0.5em 0.4em;box-sizing: border-box;padding-bottom: 0.4em;background-color: white;}#sk-container-id-6 div.sk-label label {font-family: monospace;font-weight: bold;display: inline-block;line-height: 1.2em;}#sk-container-id-6 div.sk-label-container {text-align: center;}#sk-container-id-6 div.sk-container {/* jupyter's `normalize.less` sets `[hidden] { display: none; }` but bootstrap.min.css set `[hidden] { display: none !important; }` so we also need the `!important` here to be able to override the default hidden behavior on the sphinx rendered scikit-learn.org. See: https://github.com/scikit-learn/scikit-learn/issues/21755 */display: inline-block !important;position: relative;}#sk-container-id-6 div.sk-text-repr-fallback {display: none;}</style><div id=\"sk-container-id-6\" class=\"sk-top-container\"><div class=\"sk-text-repr-fallback\"><pre>DecisionTreeClassifier(criterion=&#x27;entropy&#x27;, max_depth=7)</pre><b>In a Jupyter environment, please rerun this cell to show the HTML representation or trust the notebook. <br />On GitHub, the HTML representation is unable to render, please try loading this page with nbviewer.org.</b></div><div class=\"sk-container\" hidden><div class=\"sk-item\"><div class=\"sk-estimator sk-toggleable\"><input class=\"sk-toggleable__control sk-hidden--visually\" id=\"sk-estimator-id-6\" type=\"checkbox\" checked><label for=\"sk-estimator-id-6\" class=\"sk-toggleable__label sk-toggleable__label-arrow\">DecisionTreeClassifier</label><div class=\"sk-toggleable__content\"><pre>DecisionTreeClassifier(criterion=&#x27;entropy&#x27;, max_depth=7)</pre></div></div></div></div></div>"
      ],
      "text/plain": [
       "DecisionTreeClassifier(criterion='entropy', max_depth=7)"
      ]
     },
     "execution_count": 106,
     "metadata": {},
     "output_type": "execute_result"
    }
   ],
   "source": [
    "drugTree.fit(X_trainset,y_trainset)"
   ]
  },
  {
   "cell_type": "code",
   "execution_count": 107,
   "metadata": {
    "id": "v1_r-5Fu6qgB"
   },
   "outputs": [],
   "source": [
    "predTree = drugTree.predict(X_testset)"
   ]
  },
  {
   "cell_type": "code",
   "execution_count": 108,
   "metadata": {
    "colab": {
     "base_uri": "https://localhost:8080/"
    },
    "id": "_xWsx_UF56PW",
    "outputId": "e75a20f5-ba6e-4b7f-9058-2097bcb9a03f"
   },
   "outputs": [],
   "source": [
    "train = drugTree.predict(X_trainset)"
   ]
  },
  {
   "cell_type": "code",
   "execution_count": 109,
   "metadata": {
    "colab": {
     "base_uri": "https://localhost:8080/"
    },
    "id": "jijBQrX76qgB",
    "outputId": "17d14be0-69e9-44b2-dc5e-a7cb9f441d3f",
    "scrolled": true
   },
   "outputs": [
    {
     "name": "stdout",
     "output_type": "stream",
     "text": [
      "['panchkol churna' 'Shankh Vati + Shankh Bhasma' 'kutajarishta'\n",
      " 'jahar mohra pishti' 'Mukta pishti' 'promegranate drink'\n",
      " 'sitopaladi churna' 'phadke' 'mukta pishti' 'giloy satya'\n",
      " 'Shankha prakshalana' 'mukta pishti' 'ajamodarka' 'mukta pishti'\n",
      " 'aamvatantak churna' 'kutajarishta' 'Anu Taila + Shankhapushpi'\n",
      " 'ashta choornam' 'ajwan water' 'ajamodarka']\n",
      "['panchkol churna' 'Shankh Vati + Shankh Bhasma' 'kutajarishta'\n",
      " 'jahar mohra pishti' 'Mukta pishti' 'sanjni vati' 'sitopaladi churna'\n",
      " 'phadke' 'mukta pishti' 'giloy satya' 'Shankha prakshalana'\n",
      " 'mukta pishti' 'ajamodarka' 'mukta pishti' 'aamvatantak churna'\n",
      " 'kutajarishta' 'Anu Taila + Shankhapushpi' 'ashta choornam'\n",
      " 'suhunjana beej' 'ajamodarka']\n"
     ]
    }
   ],
   "source": [
    "print (predTree [0:20])\n",
    "print (y_testset [0:20])\n"
   ]
  },
  {
   "cell_type": "code",
   "execution_count": 110,
   "metadata": {
    "colab": {
     "base_uri": "https://localhost:8080/"
    },
    "id": "nlLqPs696qgC",
    "outputId": "44319314-a42c-4520-8d35-c1c6383dffbc"
   },
   "outputs": [
    {
     "name": "stdout",
     "output_type": "stream",
     "text": [
      "DecisionTrees's Testing Accuracy:  0.9534883720930233\n"
     ]
    }
   ],
   "source": [
    "from sklearn import metrics\n",
    "import matplotlib.pyplot as plt\n",
    "predictions_test =  metrics.accuracy_score(y_testset, predTree)\n",
    "print(\"DecisionTrees's Testing Accuracy: \",predictions_test)"
   ]
  },
  {
   "cell_type": "code",
   "execution_count": 111,
   "metadata": {
    "colab": {
     "base_uri": "https://localhost:8080/"
    },
    "id": "37bm4yqJ6qgD",
    "outputId": "42291f7c-b6ba-46a1-d335-2b8704f90d1d"
   },
   "outputs": [
    {
     "name": "stdout",
     "output_type": "stream",
     "text": [
      "Testing Accuracy: 0.9534883720930233\n"
     ]
    }
   ],
   "source": [
    "correct_labels=(predTree==y_testset).sum()\n",
    "total_labels=y_testset.shape[0]\n",
    "print(\"Testing Accuracy:\",(correct_labels/total_labels))"
   ]
  },
  {
   "cell_type": "code",
   "execution_count": 112,
   "metadata": {
    "colab": {
     "base_uri": "https://localhost:8080/"
    },
    "id": "fMsDpHTWgnES",
    "outputId": "651df5e0-be3b-4547-c694-62a800751d4c"
   },
   "outputs": [
    {
     "name": "stdout",
     "output_type": "stream",
     "text": [
      "DecisionTrees's Training Accuracy:  0.9755826859045506\n"
     ]
    }
   ],
   "source": [
    "from sklearn.metrics import accuracy_score\n",
    "predictions_train = drugTree.predict(X_trainset)\n",
    "Train_acc = accuracy_score(y_trainset,predictions_train)\n",
    "print(\"DecisionTrees's Training Accuracy: \",Train_acc)"
   ]
  },
  {
   "cell_type": "code",
   "execution_count": 113,
   "metadata": {
    "id": "3hld1qLf6qgG"
   },
   "outputs": [],
   "source": [
    "from sklearn.metrics import classification_report,confusion_matrix"
   ]
  },
  {
   "cell_type": "code",
   "execution_count": 114,
   "metadata": {
    "colab": {
     "base_uri": "https://localhost:8080/"
    },
    "id": "ZhVAb8ZfqX8g",
    "outputId": "5d83eb3a-dfd3-4b8e-cbba-ac190f44f7c0"
   },
   "outputs": [
    {
     "name": "stdout",
     "output_type": "stream",
     "text": [
      "                             precision    recall  f1-score   support\n",
      "\n",
      "  Anu Taila + Shankhapushpi       1.00      1.00      1.00        16\n",
      "         Chandraprabha vati       1.00      1.00      1.00        13\n",
      "  Jatamansi + Shankhapushpi       1.00      1.00      1.00        16\n",
      "                Jyotishmati       1.00      0.60      0.75         5\n",
      "                 Mudgaparni       1.00      1.00      1.00         5\n",
      "               Mukta pishti       1.00      1.00      1.00        11\n",
      "Shankh Vati + Shankh Bhasma       1.00      1.00      1.00         7\n",
      "        Shankha prakshalana       1.00      1.00      1.00        14\n",
      "       Vasant Kusumakar Ras       1.00      1.00      1.00         5\n",
      "         aamvatantak churna       1.00      1.00      1.00        12\n",
      "                 ajamodarka       1.00      1.00      1.00        24\n",
      "                ajwan water       0.33      1.00      0.50         1\n",
      "                akik pishti       1.00      1.00      1.00         5\n",
      "             ashta choornam       1.00      1.00      1.00        22\n",
      "                ashwagandha       0.00      1.00      0.00         0\n",
      "                      bilwa       1.00      1.00      1.00         1\n",
      "         boswellia curcumin       1.00      1.00      1.00        14\n",
      "            citrakadhi vati       0.50      1.00      0.67         1\n",
      "        dadimashtaka churna       1.00      1.00      1.00         1\n",
      "               dashmool oil       1.00      0.00      0.00         1\n",
      " dashmool powder with water       1.00      0.00      0.00         1\n",
      "                drakshasava       1.00      0.00      0.00         1\n",
      "             fenugreek seed       1.00      0.67      0.80         6\n",
      "   gandharvahastadi kashaya       1.00      0.00      0.00         1\n",
      "                giloy satya       1.00      1.00      1.00        13\n",
      "                    ginger        0.00      1.00      0.00         0\n",
      "        gulachyadi kashayam       1.00      1.00      1.00         2\n",
      "                   haritaki       1.00      1.00      1.00         1\n",
      "          hingvastak churna       1.00      1.00      1.00         3\n",
      "         hingwastaka churna       0.00      1.00      0.00         0\n",
      "       indukantham kashayam       1.00      1.00      1.00         6\n",
      "         jahar mohra pishti       1.00      1.00      1.00         5\n",
      "              kamdhudha ras       1.00      1.00      1.00        16\n",
      "               kutajarishta       1.00      0.92      0.96        24\n",
      "       lavan bhasker churna       0.50      1.00      0.67         2\n",
      "     lavanaabhaskara churna       1.00      0.00      0.00         1\n",
      "            mrutyunjay rasa       0.71      1.00      0.83         5\n",
      "               mukta pishti       1.00      1.00      1.00        14\n",
      "              nirugandi oil       1.00      1.00      1.00         1\n",
      "            panchkol churna       1.00      1.00      1.00        23\n",
      "           pathyadi guggulu       1.00      0.00      0.00         2\n",
      "                     phadke       1.00      1.00      1.00         7\n",
      "               praval pisti       1.00      1.00      1.00         5\n",
      "         promegranate drink       0.80      1.00      0.89         4\n",
      "           ricinus communis       1.00      1.00      1.00        12\n",
      "             sanjivani vati       0.86      1.00      0.92        12\n",
      "                sanjni vati       1.00      0.00      0.00         1\n",
      "              shankh bhasma       0.00      1.00      0.00         0\n",
      "                shankh-vati       1.00      0.00      0.00         1\n",
      "          sitopaladi churna       1.00      1.00      1.00        19\n",
      "             suhunjana beej       1.00      0.00      0.00         1\n",
      "       tribhuvan kirti rasa       1.00      1.00      1.00        11\n",
      "                    trikatu       0.00      1.00      0.00         0\n",
      "             trikatu churna       1.00      0.85      0.92        13\n",
      "\n",
      "                   accuracy                           0.95       387\n",
      "                  macro avg       0.86      0.82      0.70       387\n",
      "               weighted avg       0.98      0.95      0.95       387\n",
      "\n",
      "Confusion Matrix:\n",
      "[[16  0  0 ...  0  0  0]\n",
      " [ 0 13  0 ...  0  0  0]\n",
      " [ 0  0 16 ...  0  0  0]\n",
      " ...\n",
      " [ 0  0  0 ... 11  0  0]\n",
      " [ 0  0  0 ...  0  0  0]\n",
      " [ 0  0  0 ...  0  0 11]]\n"
     ]
    }
   ],
   "source": [
    "print(classification_report(y_testset, predTree, zero_division = 1))\n",
    "# Generating the confusion matrix for evaluating the testing corpus\n",
    "conf_matrix = confusion_matrix(y_testset, predTree)\n",
    "print(\"Confusion Matrix:\")\n",
    "print(conf_matrix)"
   ]
  },
  {
   "cell_type": "code",
   "execution_count": 115,
   "metadata": {
    "colab": {
     "base_uri": "https://localhost:8080/"
    },
    "id": "W4bqIOpvya_2",
    "outputId": "3815d06a-e4ed-423b-90a6-6b1ba0d09c0c"
   },
   "outputs": [
    {
     "name": "stdout",
     "output_type": "stream",
     "text": [
      "                             precision    recall  f1-score   support\n",
      "\n",
      "  Anu Taila + Shankhapushpi       1.00      1.00      1.00        24\n",
      "         Chandraprabha vati       1.00      1.00      1.00        31\n",
      "  Jatamansi + Shankhapushpi       1.00      1.00      1.00        24\n",
      "                Jyotishmati       1.00      1.00      1.00        11\n",
      "                 Mudgaparni       1.00      1.00      1.00        11\n",
      "               Mukta pishti       1.00      1.00      1.00        33\n",
      "Shankh Vati + Shankh Bhasma       1.00      1.00      1.00        33\n",
      "        Shankha prakshalana       1.00      1.00      1.00        30\n",
      "       Vasant Kusumakar Ras       1.00      1.00      1.00        11\n",
      "         aamvatantak churna       1.00      1.00      1.00        28\n",
      "                 ajamodarka       0.90      1.00      0.95        36\n",
      "                ajwan water       0.33      1.00      0.50         1\n",
      "                akik pishti       1.00      1.00      1.00        11\n",
      "             ashta choornam       1.00      1.00      1.00        58\n",
      "                ashwagandha       0.40      1.00      0.57         2\n",
      "                      bilwa       1.00      1.00      1.00         1\n",
      "         boswellia curcumin       1.00      1.00      1.00        26\n",
      "            citrakadhi vati       0.50      1.00      0.67         1\n",
      "        dadimashtaka churna       1.00      1.00      1.00         1\n",
      "               dashmool oil       1.00      0.00      0.00         1\n",
      " dashmool powder with water       1.00      0.00      0.00         1\n",
      "                drakshasava       1.00      0.00      0.00         1\n",
      "                  fenugreek       1.00      1.00      1.00         2\n",
      "             fenugreek seed       1.00      1.00      1.00        16\n",
      "   gandharvahastadi kashaya       1.00      0.00      0.00         1\n",
      "                giloy satya       1.00      1.00      1.00        31\n",
      "                     ginger       1.00      0.00      0.00         2\n",
      "                    ginger        0.40      1.00      0.57         2\n",
      "        gulachyadi kashayam       1.00      1.00      1.00        12\n",
      "                   haritaki       1.00      1.00      1.00         1\n",
      "              hingvadi vati       1.00      0.00      0.00         2\n",
      "          hingvastak churna       1.00      1.00      1.00         5\n",
      "         hingwastaka churna       0.40      1.00      0.57         2\n",
      "       indukantham kashayam       1.00      1.00      1.00         6\n",
      "         jahar mohra pishti       1.00      1.00      1.00        11\n",
      "              kamdhudha ras       1.00      1.00      1.00        28\n",
      "                     kutaja       1.00      0.00      0.00         2\n",
      "               kutajarishta       1.00      1.00      1.00        58\n",
      "       lavan bhasker churna       1.00      1.00      1.00         6\n",
      "     lavanaabhaskara churna       1.00      0.00      0.00         1\n",
      "                   laxative       1.00      0.00      0.00         2\n",
      "                 lime juice       1.00      1.00      1.00         8\n",
      "            mrutyunjay rasa       1.00      1.00      1.00        17\n",
      "               mukta pishti       1.00      1.00      1.00        30\n",
      "     nirugandi leaves paste       1.00      0.00      0.00         2\n",
      "              nirugandi oil       1.00      1.00      1.00         3\n",
      "            panchkol churna       1.00      1.00      1.00        57\n",
      "                     phadke       1.00      1.00      1.00        33\n",
      "               praval pisti       1.00      1.00      1.00        11\n",
      "         promegranate drink       0.57      1.00      0.73         4\n",
      "           ricinus communis       1.00      1.00      1.00        28\n",
      "             sanjivani vati       1.00      1.00      1.00        10\n",
      "                sanjni vati       1.00      0.00      0.00         1\n",
      "                sankha vati       1.00      0.00      0.00         2\n",
      "              shankh bhasma       0.50      1.00      0.67         2\n",
      "                shankh-vati       1.00      0.00      0.00         1\n",
      "              shankhapushpi       1.00      0.00      0.00         2\n",
      "   shivakshar pachan churna       1.00      1.00      1.00         8\n",
      "                shud laksha       1.00      1.00      1.00         2\n",
      "          sitopaladi churna       1.00      1.00      1.00        61\n",
      "             suhunjana beej       1.00      0.00      0.00         1\n",
      "       tribhuvan kirti rasa       1.00      1.00      1.00        11\n",
      "                    trikatu       0.67      1.00      0.80         2\n",
      "             trikatu churna       1.00      1.00      1.00        39\n",
      "\n",
      "                   accuracy                           0.98       901\n",
      "                  macro avg       0.93      0.77      0.72       901\n",
      "               weighted avg       0.99      0.98      0.97       901\n",
      "\n",
      "Confusion matrix (training):\n",
      " [[24  0  0 ...  0  0  0]\n",
      " [ 0 31  0 ...  0  0  0]\n",
      " [ 0  0 24 ...  0  0  0]\n",
      " ...\n",
      " [ 0  0  0 ... 11  0  0]\n",
      " [ 0  0  0 ...  0  2  0]\n",
      " [ 0  0  0 ...  0  0 39]]\n"
     ]
    }
   ],
   "source": [
    "print(classification_report(y_trainset,predictions_train, zero_division = 1))\n",
    "# Generating the confusion matrix for evaluating the training corpus\n",
    "from sklearn.metrics import confusion_matrix\n",
    " \n",
    "predictions_train = drugTree.predict(X_trainset)\n",
    "confusion_matrix_train = confusion_matrix(y_trainset, predictions_train)\n",
    "print(\"Confusion matrix (training):\\n\", confusion_matrix_train)"
   ]
  },
  {
   "cell_type": "code",
   "execution_count": 116,
   "metadata": {
    "id": "NPe-th-35Cvd"
   },
   "outputs": [],
   "source": [
    "import numpy as np\n",
    "import pandas as pd\n",
    "import os\n",
    "from sklearn.preprocessing import LabelEncoder\n",
    "from sklearn.model_selection import train_test_split\n",
    "from sklearn.model_selection import RandomizedSearchCV, GridSearchCV\n",
    "from sklearn import tree\n",
    "from sklearn.metrics import accuracy_score,confusion_matrix\n",
    "import seaborn as sns\n",
    "import matplotlib.pyplot as plt"
   ]
  },
  {
   "cell_type": "code",
   "execution_count": 117,
   "metadata": {
    "colab": {
     "base_uri": "https://localhost:8080/"
    },
    "id": "zyHUn4uV_ZIJ",
    "outputId": "2b29a092-3ed0-49ab-aad1-a213fe2e3ea8"
   },
   "outputs": [
    {
     "name": "stdout",
     "output_type": "stream",
     "text": [
      "[[16  0  0 ...  0  0  0]\n",
      " [ 0 13  0 ...  0  0  0]\n",
      " [ 0  0 16 ...  0  0  0]\n",
      " ...\n",
      " [ 0  0  0 ... 11  0  0]\n",
      " [ 0  0  0 ...  0  0  0]\n",
      " [ 0  0  0 ...  0  0 11]]\n"
     ]
    }
   ],
   "source": [
    "conf_matrix = confusion_matrix(y_testset, predTree )\n",
    "print(conf_matrix)"
   ]
  },
  {
   "cell_type": "code",
   "execution_count": 118,
   "metadata": {
    "colab": {
     "base_uri": "https://localhost:8080/",
     "height": 603
    },
    "id": "Q_hMuW1m5FQz",
    "outputId": "8b8d9c1c-2b80-4288-dc02-37ef95f6bc05",
    "scrolled": false
   },
   "outputs": [
    {
     "name": "stdout",
     "output_type": "stream",
     "text": [
      "Train score 0.9755826859045506\n",
      "Test score 0.9534883720930233\n"
     ]
    },
    {
     "data": {
      "text/plain": [
       "<sklearn.metrics._plot.confusion_matrix.ConfusionMatrixDisplay at 0x203acb70f50>"
      ]
     },
     "execution_count": 118,
     "metadata": {},
     "output_type": "execute_result"
    },
    {
     "data": {
      "image/png": "[encoded data removed]",
      "text/plain": [
       "<Figure size 640x480 with 2 Axes>"
      ]
     },
     "metadata": {},
     "output_type": "display_data"
    },
    {
     "data": {
      "image/png": "[encoded data removed]",
      "text/plain": [
       "<Figure size 640x480 with 2 Axes>"
      ]
     },
     "metadata": {},
     "output_type": "display_data"
    }
   ],
   "source": [
    "from sklearn.metrics._plot.confusion_matrix import ConfusionMatrixDisplay\n",
    "from sklearn.metrics import confusion_matrix\n",
    "print(f'Train score {accuracy_score(train,y_trainset)}')\n",
    "print(f'Test score {accuracy_score(predTree,y_testset)}')\n",
    "conf_test = ConfusionMatrixDisplay(confusion_matrix=conf_matrix)\n",
    "conf_train = ConfusionMatrixDisplay(confusion_matrix= confusion_matrix_train)\n",
    "conf_test.plot()\n",
    "conf_train.plot()"
   ]
  },
  {
   "cell_type": "code",
   "execution_count": 119,
   "metadata": {},
   "outputs": [],
   "source": [
    "import pickle \n",
    "pickle.dump(drugTree,open(\"drugTree.pkl\",\"wb\"))"
   ]
  },
  {
   "cell_type": "code",
   "execution_count": 120,
   "metadata": {
    "scrolled": true
   },
   "outputs": [
    {
     "data": {
      "text/plain": [
       "array(['panchkol churna', 'Shankh Vati + Shankh Bhasma', 'kutajarishta',\n",
       "       'jahar mohra pishti', 'Mukta pishti', 'promegranate drink',\n",
       "       'sitopaladi churna', 'phadke', 'mukta pishti', 'giloy satya',\n",
       "       'Shankha prakshalana', 'mukta pishti', 'ajamodarka',\n",
       "       'mukta pishti', 'aamvatantak churna', 'kutajarishta',\n",
       "       'Anu Taila + Shankhapushpi', 'ashta choornam', 'ajwan water',\n",
       "       'ajamodarka', 'kutajarishta', 'Shankh Vati + Shankh Bhasma',\n",
       "       'Vasant Kusumakar Ras', 'akik pishti', 'kutajarishta',\n",
       "       'Chandraprabha vati', 'ajamodarka', 'ashta choornam',\n",
       "       'boswellia curcumin', 'shankh bhasma', 'ashta choornam',\n",
       "       'jahar mohra pishti', 'ajamodarka', 'ashta choornam',\n",
       "       'lavan bhasker churna', 'phadke', 'aamvatantak churna',\n",
       "       'kamdhudha ras', 'mukta pishti', 'kutajarishta', 'ajamodarka',\n",
       "       'ajamodarka', 'panchkol churna', 'Anu Taila + Shankhapushpi',\n",
       "       'Chandraprabha vati', 'ashta choornam', 'Vasant Kusumakar Ras',\n",
       "       'Mukta pishti', 'boswellia curcumin', 'tribhuvan kirti rasa',\n",
       "       'ashta choornam', 'Anu Taila + Shankhapushpi',\n",
       "       'aamvatantak churna', 'Shankh Vati + Shankh Bhasma',\n",
       "       'Anu Taila + Shankhapushpi', 'citrakadhi vati', 'kamdhudha ras',\n",
       "       'Anu Taila + Shankhapushpi', 'Mudgaparni', 'boswellia curcumin',\n",
       "       'mrutyunjay rasa', 'Jatamansi + Shankhapushpi', 'giloy satya',\n",
       "       'Chandraprabha vati', 'aamvatantak churna', 'tribhuvan kirti rasa',\n",
       "       'hingvastak churna', 'sitopaladi churna', 'sanjivani vati',\n",
       "       'Anu Taila + Shankhapushpi', 'kutajarishta', 'aamvatantak churna',\n",
       "       'Mukta pishti', 'akik pishti', 'ajamodarka', 'sitopaladi churna',\n",
       "       'giloy satya', 'Shankha prakshalana', 'Mudgaparni', 'ajamodarka',\n",
       "       'sitopaladi churna', 'Jatamansi + Shankhapushpi',\n",
       "       'sitopaladi churna', 'panchkol churna', 'gulachyadi kashayam',\n",
       "       'hingvastak churna', 'kutajarishta', 'phadke', 'kamdhudha ras',\n",
       "       'praval pisti', 'Anu Taila + Shankhapushpi', 'ashta choornam',\n",
       "       'giloy satya', 'ashta choornam', 'panchkol churna',\n",
       "       'promegranate drink', 'praval pisti', 'panchkol churna',\n",
       "       'Shankha prakshalana', 'Shankha prakshalana', 'kamdhudha ras',\n",
       "       'boswellia curcumin', 'Anu Taila + Shankhapushpi',\n",
       "       'mrutyunjay rasa', 'ashta choornam', 'nirugandi oil',\n",
       "       'kutajarishta', 'sitopaladi churna', 'aamvatantak churna',\n",
       "       'Mukta pishti', 'giloy satya', 'Mukta pishti', 'sanjivani vati',\n",
       "       'akik pishti', 'Shankha prakshalana', 'Shankha prakshalana',\n",
       "       'panchkol churna', 'sanjivani vati', 'kutajarishta',\n",
       "       'kutajarishta', 'aamvatantak churna', 'Shankha prakshalana',\n",
       "       'giloy satya', 'Jyotishmati', 'kamdhudha ras', 'mukta pishti',\n",
       "       'sitopaladi churna', 'sanjivani vati', 'trikatu churna',\n",
       "       'ashta choornam', 'kutajarishta', 'mrutyunjay rasa',\n",
       "       'trikatu churna', 'praval pisti', 'mukta pishti', 'sanjivani vati',\n",
       "       'jahar mohra pishti', 'indukantham kashayam', 'giloy satya',\n",
       "       'ricinus communis', 'ajamodarka', 'trikatu churna',\n",
       "       'boswellia curcumin', 'Shankh Vati + Shankh Bhasma',\n",
       "       'Jatamansi + Shankhapushpi', 'ajamodarka', 'giloy satya',\n",
       "       'sanjivani vati', 'panchkol churna', 'ashta choornam',\n",
       "       'boswellia curcumin', 'Mukta pishti', 'trikatu churna',\n",
       "       'sanjivani vati', 'tribhuvan kirti rasa', 'dadimashtaka churna',\n",
       "       'indukantham kashayam', 'Chandraprabha vati', 'ajamodarka',\n",
       "       'ajamodarka', 'panchkol churna', 'trikatu churna',\n",
       "       'ashta choornam', 'panchkol churna', 'Vasant Kusumakar Ras',\n",
       "       'ajwan water', 'Chandraprabha vati', 'fenugreek seed',\n",
       "       'kutajarishta', 'Vasant Kusumakar Ras', 'praval pisti',\n",
       "       'ajwan water', 'panchkol churna', 'giloy satya', 'ashta choornam',\n",
       "       'kamdhudha ras', 'boswellia curcumin', 'panchkol churna',\n",
       "       'Chandraprabha vati', 'lavan bhasker churna',\n",
       "       'Shankh Vati + Shankh Bhasma', 'kutajarishta',\n",
       "       'Vasant Kusumakar Ras', 'sitopaladi churna', 'Shankha prakshalana',\n",
       "       'Mukta pishti', 'trikatu', 'ajamodarka', 'Shankha prakshalana',\n",
       "       'shankh bhasma', 'Jatamansi + Shankhapushpi', 'ajamodarka',\n",
       "       'bilwa', 'panchkol churna', 'ajamodarka', 'panchkol churna',\n",
       "       'ajamodarka', 'sitopaladi churna', 'promegranate drink',\n",
       "       'sitopaladi churna', 'Shankha prakshalana', 'trikatu churna',\n",
       "       'ashta choornam', 'ginger ', 'trikatu churna', 'ricinus communis',\n",
       "       'kamdhudha ras', 'panchkol churna', 'Jatamansi + Shankhapushpi',\n",
       "       'praval pisti', 'Jatamansi + Shankhapushpi',\n",
       "       'Anu Taila + Shankhapushpi', 'tribhuvan kirti rasa',\n",
       "       'kamdhudha ras', 'ajamodarka', 'ricinus communis',\n",
       "       'panchkol churna', 'ashta choornam', 'Mudgaparni',\n",
       "       'trikatu churna', 'promegranate drink', 'Mukta pishti',\n",
       "       'fenugreek seed', 'jahar mohra pishti', 'panchkol churna',\n",
       "       'aamvatantak churna', 'Anu Taila + Shankhapushpi',\n",
       "       'Shankha prakshalana', 'kutajarishta', 'hingwastaka churna',\n",
       "       'akik pishti', 'sanjivani vati', 'indukantham kashayam',\n",
       "       'panchkol churna', 'Anu Taila + Shankhapushpi', 'kutajarishta',\n",
       "       'tribhuvan kirti rasa', 'kutajarishta', 'mukta pishti',\n",
       "       'mukta pishti', 'sitopaladi churna', 'Shankha prakshalana',\n",
       "       'aamvatantak churna', 'trikatu churna', 'tribhuvan kirti rasa',\n",
       "       'ajamodarka', 'sanjivani vati', 'trikatu', 'ajamodarka',\n",
       "       'Jatamansi + Shankhapushpi', 'Jatamansi + Shankhapushpi',\n",
       "       'mukta pishti', 'boswellia curcumin', 'giloy satya',\n",
       "       'tribhuvan kirti rasa', 'ajamodarka', 'giloy satya',\n",
       "       'trikatu churna', 'gulachyadi kashayam', 'lavan bhasker churna',\n",
       "       'indukantham kashayam', 'Chandraprabha vati', 'kamdhudha ras',\n",
       "       'Shankh Vati + Shankh Bhasma', 'Jatamansi + Shankhapushpi',\n",
       "       'citrakadhi vati', 'jahar mohra pishti', 'kamdhudha ras',\n",
       "       'aamvatantak churna', 'boswellia curcumin', 'sitopaladi churna',\n",
       "       'indukantham kashayam', 'mrutyunjay rasa', 'phadke', 'ashwagandha',\n",
       "       'sanjivani vati', 'Jatamansi + Shankhapushpi', 'kamdhudha ras',\n",
       "       'sitopaladi churna', 'ashta choornam', 'ashta choornam',\n",
       "       'Jatamansi + Shankhapushpi', 'Chandraprabha vati', 'giloy satya',\n",
       "       'ricinus communis', 'Chandraprabha vati', 'panchkol churna',\n",
       "       'sitopaladi churna', 'Jyotishmati', 'mukta pishti',\n",
       "       'Shankha prakshalana', 'Anu Taila + Shankhapushpi',\n",
       "       'sitopaladi churna', 'ashta choornam', 'Chandraprabha vati',\n",
       "       'ashta choornam', 'Jatamansi + Shankhapushpi',\n",
       "       'Chandraprabha vati', 'indukantham kashayam', 'boswellia curcumin',\n",
       "       'Mudgaparni', 'ricinus communis', 'tribhuvan kirti rasa',\n",
       "       'tribhuvan kirti rasa', 'sanjivani vati', 'kamdhudha ras',\n",
       "       'Anu Taila + Shankhapushpi', 'Mudgaparni', 'mukta pishti',\n",
       "       'haritaki', 'tribhuvan kirti rasa', 'ricinus communis',\n",
       "       'sanjivani vati', 'panchkol churna', 'phadke',\n",
       "       'boswellia curcumin', 'mrutyunjay rasa', 'panchkol churna',\n",
       "       'Anu Taila + Shankhapushpi', 'sitopaladi churna',\n",
       "       'aamvatantak churna', 'ricinus communis', 'kutajarishta',\n",
       "       'Mukta pishti', 'phadke', 'ricinus communis', 'mukta pishti',\n",
       "       'ashta choornam', 'sitopaladi churna', 'Jatamansi + Shankhapushpi',\n",
       "       'Jatamansi + Shankhapushpi', 'boswellia curcumin', 'giloy satya',\n",
       "       'Mukta pishti', 'kutajarishta', 'Anu Taila + Shankhapushpi',\n",
       "       'kamdhudha ras', 'mrutyunjay rasa', 'aamvatantak churna',\n",
       "       'mrutyunjay rasa', 'sitopaladi churna', 'ricinus communis',\n",
       "       'sitopaladi churna', 'promegranate drink', 'Shankha prakshalana',\n",
       "       'Chandraprabha vati', 'kutajarishta', 'mukta pishti',\n",
       "       'boswellia curcumin', 'ashta choornam', 'ricinus communis',\n",
       "       'boswellia curcumin', 'kamdhudha ras', 'ajamodarka', 'phadke',\n",
       "       'trikatu', 'kutajarishta', 'ajamodarka', 'Mukta pishti',\n",
       "       'Jyotishmati', 'Jatamansi + Shankhapushpi', 'mukta pishti',\n",
       "       'ricinus communis', 'Chandraprabha vati', 'panchkol churna',\n",
       "       'ricinus communis', 'hingvastak churna', 'kutajarishta',\n",
       "       'panchkol churna', 'lavan bhasker churna', 'ajamodarka',\n",
       "       'tribhuvan kirti rasa', 'Shankh Vati + Shankh Bhasma',\n",
       "       'sanjivani vati', 'akik pishti', 'sanjivani vati',\n",
       "       'trikatu churna', 'fenugreek seed', 'Jatamansi + Shankhapushpi',\n",
       "       'Anu Taila + Shankhapushpi', 'kutajarishta', 'fenugreek seed',\n",
       "       'panchkol churna', 'kamdhudha ras', 'ashta choornam', 'ajamodarka',\n",
       "       'kamdhudha ras'], dtype=object)"
      ]
     },
     "execution_count": 120,
     "metadata": {},
     "output_type": "execute_result"
    }
   ],
   "source": [
    "model = pickle.load(open(\"drugTree.pkl\",\"rb\"))\n",
    "model.predict(X_testset)"
   ]
  },
  {
   "cell_type": "code",
   "execution_count": 121,
   "metadata": {},
   "outputs": [
    {
     "name": "stdout",
     "output_type": "stream",
     "text": [
      "['tribhuvan kirti rasa']\n"
     ]
    }
   ],
   "source": [
    "print(model.predict([[1, 19, 1, 0]]))"
   ]
  }
 ],
 "metadata": {
  "anaconda-cloud": {},
  "colab": {
   "provenance": []
  },
  "kernelspec": {
   "display_name": "Python 3 (ipykernel)",
   "language": "python",
   "name": "python3"
  },
  "language_info": {
   "codemirror_mode": {
    "name": "ipython",
    "version": 3
   },
   "file_extension": ".py",
   "mimetype": "text/x-python",
   "name": "python",
   "nbconvert_exporter": "python",
   "pygments_lexer": "ipython3",
   "version": "3.11.4"
  }
 },
 "nbformat": 4,
 "nbformat_minor": 1
}
